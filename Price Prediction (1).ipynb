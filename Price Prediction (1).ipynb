{
 "cells": [
  {
   "cell_type": "markdown",
   "metadata": {},
   "source": [
    "# Intro "
   ]
  },
  {
   "cell_type": "markdown",
   "metadata": {},
   "source": [
    "When we want to predict next day's (week's or month's even) prices of a certain stock, first thing we do is to get as much as information about a company and 'guess' what it will be likely. This was usually done by hands without much help from using computers in the past. Even if one was used, it did not help much because of limits on resources such as computing power. "
   ]
  },
  {
   "cell_type": "markdown",
   "metadata": {},
   "source": [
    "However, as technology is getting better and faster computers are manufactured every second, we began to start utilizing them to help us for predicetion. In this post, I am sharing what I did to predict DJIA's adjusted closing prices with news articles as input features. "
   ]
  },
  {
   "cell_type": "markdown",
   "metadata": {},
   "source": [
    "The data used is from [Kaggle Dataset](https://www.kaggle.com/aaron7sun/stocknews), uploaded by Aaron7sun. It has 25 news articles each day from 2008-06-08 to 2016-07-01, total of 1989 days of samples."
   ]
  },
  {
   "cell_type": "markdown",
   "metadata": {},
   "source": [
    "There are three csv files but I only used 'Combined_News_DJIA' because I made a model that predicts only with articles."
   ]
  },
  {
   "cell_type": "markdown",
   "metadata": {},
   "source": [
    "Common approaches before was just to use RNN, GRU, LSTM or ARIMA models that rely on past values. However, my approach was to use same day's news articles and try to get how much they affect the day's opening value. If it affects positively, the closing will result in higher value."
   ]
  },
  {
   "cell_type": "markdown",
   "metadata": {},
   "source": [
    "Since the data is in string format and not numeric, I used pre-trained BERT to convert them into vectors of floating values, which I got from [Mxnet's Model Zoo](https://gluon-nlp.mxnet.io/model_zoo/bert/index.html)."
   ]
  },
  {
   "cell_type": "markdown",
   "metadata": {},
   "source": [
    "### What is BERT?"
   ]
  },
  {
   "cell_type": "markdown",
   "metadata": {},
   "source": [
    "BERT is an encoder that given sets of words (or phrases), converts them into appropriate floating values. Unlike word2vec which has fixed value for each word, it can capture significance of a word in a sentence. So for the same word in two different sentences, it can output different values if it has different meaning or impact on them."
   ]
  },
  {
   "cell_type": "markdown",
   "metadata": {},
   "source": [
    "As an example, we can look at two sentences.\n",
    "1. I hate seeing you\n",
    "2. I hate leaving you\n",
    "\n",
    "If we are to predict my feeling about you with word2vec, we are forced to make a model only with 'seeing' and 'leaving' because they both contain 'I', 'hate', and 'you' in the same position that the model will not gain much from them. But if we use BERT, it's possible to capture that 'hate seeing' has negative feeling while 'hate leaving' has positive one because 'hate' will then have differert values."
   ]
  },
  {
   "cell_type": "markdown",
   "metadata": {},
   "source": [
    "Another example of is to predict a rating of a restaurant. With the sentence 'Bob hates this restaurant', word2vec might have following values."
   ]
  },
  {
   "cell_type": "markdown",
   "metadata": {},
   "source": [
    "1. Bob : 3\n",
    "2. hates : -7\n",
    "3. this : 0\n",
    "4. restaurant : 3\n",
    "\n",
    "If we make a (naive) model that just sums up values, with above numbers and predict if Bob's rating will be positive or negative, we will get a negative rating. But what happens if we change 'hates' to 'dislikes' which has the value of -5. Then the output of the model will be positive with the value of 1. "
   ]
  },
  {
   "cell_type": "markdown",
   "metadata": {},
   "source": [
    "If we define a model with word2vec, we would have to consider all kinds of possibility and many different combinations to correctly output a desired result."
   ]
  },
  {
   "cell_type": "markdown",
   "metadata": {},
   "source": [
    "This is where BERT differs from word2vec as it has the capability of capturing each word's impact. As the purpose of the post is not about BERT, I will skip the rest of the explanation and will have another in later post."
   ]
  },
  {
   "cell_type": "markdown",
   "metadata": {},
   "source": [
    "# Data Preprocess"
   ]
  },
  {
   "cell_type": "code",
   "execution_count": 2,
   "metadata": {
    "ExecuteTime": {
     "end_time": "2019-05-25T21:58:32.565197Z",
     "start_time": "2019-05-25T21:58:32.556891Z"
    }
   },
   "outputs": [],
   "source": [
    "import warnings\n",
    "warnings.filterwarnings('ignore')\n",
    "\n",
    "import numpy\n",
    "import pandas as pd"
   ]
  },
  {
   "cell_type": "code",
   "execution_count": 3,
   "metadata": {
    "ExecuteTime": {
     "end_time": "2019-05-25T21:58:32.886257Z",
     "start_time": "2019-05-25T21:58:32.709164Z"
    }
   },
   "outputs": [],
   "source": [
    "path = './data/'\n",
    "\n",
    "combined_news_path = path + 'Combined_News_DJIA.csv'\n",
    "\n",
    "news_djia = pd.read_csv(combined_news_path)"
   ]
  },
  {
   "cell_type": "code",
   "execution_count": 4,
   "metadata": {
    "ExecuteTime": {
     "end_time": "2019-05-25T21:58:33.822885Z",
     "start_time": "2019-05-25T21:58:33.750127Z"
    }
   },
   "outputs": [
    {
     "data": {
      "text/plain": [
       "(1989, 27)"
      ]
     },
     "execution_count": 4,
     "metadata": {},
     "output_type": "execute_result"
    }
   ],
   "source": [
    "news_djia.shape"
   ]
  },
  {
   "cell_type": "code",
   "execution_count": 5,
   "metadata": {
    "ExecuteTime": {
     "end_time": "2019-05-25T21:58:45.774321Z",
     "start_time": "2019-05-25T21:58:45.723987Z"
    }
   },
   "outputs": [
    {
     "data": {
      "text/html": [
       "<div>\n",
       "<style scoped>\n",
       "    .dataframe tbody tr th:only-of-type {\n",
       "        vertical-align: middle;\n",
       "    }\n",
       "\n",
       "    .dataframe tbody tr th {\n",
       "        vertical-align: top;\n",
       "    }\n",
       "\n",
       "    .dataframe thead th {\n",
       "        text-align: right;\n",
       "    }\n",
       "</style>\n",
       "<table border=\"1\" class=\"dataframe\">\n",
       "  <thead>\n",
       "    <tr style=\"text-align: right;\">\n",
       "      <th></th>\n",
       "      <th>Date</th>\n",
       "      <th>Label</th>\n",
       "      <th>Top1</th>\n",
       "      <th>Top2</th>\n",
       "      <th>Top3</th>\n",
       "      <th>Top4</th>\n",
       "      <th>Top5</th>\n",
       "      <th>Top6</th>\n",
       "      <th>Top7</th>\n",
       "      <th>Top8</th>\n",
       "      <th>...</th>\n",
       "      <th>Top16</th>\n",
       "      <th>Top17</th>\n",
       "      <th>Top18</th>\n",
       "      <th>Top19</th>\n",
       "      <th>Top20</th>\n",
       "      <th>Top21</th>\n",
       "      <th>Top22</th>\n",
       "      <th>Top23</th>\n",
       "      <th>Top24</th>\n",
       "      <th>Top25</th>\n",
       "    </tr>\n",
       "  </thead>\n",
       "  <tbody>\n",
       "    <tr>\n",
       "      <th>0</th>\n",
       "      <td>2008-08-08</td>\n",
       "      <td>0</td>\n",
       "      <td>b\"Georgia 'downs two Russian warplanes' as cou...</td>\n",
       "      <td>b'BREAKING: Musharraf to be impeached.'</td>\n",
       "      <td>b'Russia Today: Columns of troops roll into So...</td>\n",
       "      <td>b'Russian tanks are moving towards the capital...</td>\n",
       "      <td>b\"Afghan children raped with 'impunity,' U.N. ...</td>\n",
       "      <td>b'150 Russian tanks have entered South Ossetia...</td>\n",
       "      <td>b\"Breaking: Georgia invades South Ossetia, Rus...</td>\n",
       "      <td>b\"The 'enemy combatent' trials are nothing but...</td>\n",
       "      <td>...</td>\n",
       "      <td>b'Georgia Invades South Ossetia - if Russia ge...</td>\n",
       "      <td>b'Al-Qaeda Faces Islamist Backlash'</td>\n",
       "      <td>b'Condoleezza Rice: \"The US would not act to p...</td>\n",
       "      <td>b'This is a busy day:  The European Union has ...</td>\n",
       "      <td>b\"Georgia will withdraw 1,000 soldiers from Ir...</td>\n",
       "      <td>b'Why the Pentagon Thinks Attacking Iran is a ...</td>\n",
       "      <td>b'Caucasus in crisis: Georgia invades South Os...</td>\n",
       "      <td>b'Indian shoe manufactory  - And again in a se...</td>\n",
       "      <td>b'Visitors Suffering from Mental Illnesses Ban...</td>\n",
       "      <td>b\"No Help for Mexico's Kidnapping Surge\"</td>\n",
       "    </tr>\n",
       "    <tr>\n",
       "      <th>1</th>\n",
       "      <td>2008-08-11</td>\n",
       "      <td>1</td>\n",
       "      <td>b'Why wont America and Nato help us? If they w...</td>\n",
       "      <td>b'Bush puts foot down on Georgian conflict'</td>\n",
       "      <td>b\"Jewish Georgian minister: Thanks to Israeli ...</td>\n",
       "      <td>b'Georgian army flees in disarray as Russians ...</td>\n",
       "      <td>b\"Olympic opening ceremony fireworks 'faked'\"</td>\n",
       "      <td>b'What were the Mossad with fraudulent New Zea...</td>\n",
       "      <td>b'Russia angered by Israeli military sale to G...</td>\n",
       "      <td>b'An American citizen living in S.Ossetia blam...</td>\n",
       "      <td>...</td>\n",
       "      <td>b'Israel and the US behind the Georgian aggres...</td>\n",
       "      <td>b'\"Do not believe TV, neither Russian nor Geor...</td>\n",
       "      <td>b'Riots are still going on in Montreal (Canada...</td>\n",
       "      <td>b'China to overtake US as largest manufacturer'</td>\n",
       "      <td>b'War in South Ossetia [PICS]'</td>\n",
       "      <td>b'Israeli Physicians Group Condemns State Tort...</td>\n",
       "      <td>b' Russia has just beaten the United States ov...</td>\n",
       "      <td>b'Perhaps *the* question about the Georgia - R...</td>\n",
       "      <td>b'Russia is so much better at war'</td>\n",
       "      <td>b\"So this is what it's come to: trading sex fo...</td>\n",
       "    </tr>\n",
       "  </tbody>\n",
       "</table>\n",
       "<p>2 rows × 27 columns</p>\n",
       "</div>"
      ],
      "text/plain": [
       "         Date  Label                                               Top1  \\\n",
       "0  2008-08-08      0  b\"Georgia 'downs two Russian warplanes' as cou...   \n",
       "1  2008-08-11      1  b'Why wont America and Nato help us? If they w...   \n",
       "\n",
       "                                          Top2  \\\n",
       "0      b'BREAKING: Musharraf to be impeached.'   \n",
       "1  b'Bush puts foot down on Georgian conflict'   \n",
       "\n",
       "                                                Top3  \\\n",
       "0  b'Russia Today: Columns of troops roll into So...   \n",
       "1  b\"Jewish Georgian minister: Thanks to Israeli ...   \n",
       "\n",
       "                                                Top4  \\\n",
       "0  b'Russian tanks are moving towards the capital...   \n",
       "1  b'Georgian army flees in disarray as Russians ...   \n",
       "\n",
       "                                                Top5  \\\n",
       "0  b\"Afghan children raped with 'impunity,' U.N. ...   \n",
       "1      b\"Olympic opening ceremony fireworks 'faked'\"   \n",
       "\n",
       "                                                Top6  \\\n",
       "0  b'150 Russian tanks have entered South Ossetia...   \n",
       "1  b'What were the Mossad with fraudulent New Zea...   \n",
       "\n",
       "                                                Top7  \\\n",
       "0  b\"Breaking: Georgia invades South Ossetia, Rus...   \n",
       "1  b'Russia angered by Israeli military sale to G...   \n",
       "\n",
       "                                                Top8  ...  \\\n",
       "0  b\"The 'enemy combatent' trials are nothing but...  ...   \n",
       "1  b'An American citizen living in S.Ossetia blam...  ...   \n",
       "\n",
       "                                               Top16  \\\n",
       "0  b'Georgia Invades South Ossetia - if Russia ge...   \n",
       "1  b'Israel and the US behind the Georgian aggres...   \n",
       "\n",
       "                                               Top17  \\\n",
       "0                b'Al-Qaeda Faces Islamist Backlash'   \n",
       "1  b'\"Do not believe TV, neither Russian nor Geor...   \n",
       "\n",
       "                                               Top18  \\\n",
       "0  b'Condoleezza Rice: \"The US would not act to p...   \n",
       "1  b'Riots are still going on in Montreal (Canada...   \n",
       "\n",
       "                                               Top19  \\\n",
       "0  b'This is a busy day:  The European Union has ...   \n",
       "1    b'China to overtake US as largest manufacturer'   \n",
       "\n",
       "                                               Top20  \\\n",
       "0  b\"Georgia will withdraw 1,000 soldiers from Ir...   \n",
       "1                     b'War in South Ossetia [PICS]'   \n",
       "\n",
       "                                               Top21  \\\n",
       "0  b'Why the Pentagon Thinks Attacking Iran is a ...   \n",
       "1  b'Israeli Physicians Group Condemns State Tort...   \n",
       "\n",
       "                                               Top22  \\\n",
       "0  b'Caucasus in crisis: Georgia invades South Os...   \n",
       "1  b' Russia has just beaten the United States ov...   \n",
       "\n",
       "                                               Top23  \\\n",
       "0  b'Indian shoe manufactory  - And again in a se...   \n",
       "1  b'Perhaps *the* question about the Georgia - R...   \n",
       "\n",
       "                                               Top24  \\\n",
       "0  b'Visitors Suffering from Mental Illnesses Ban...   \n",
       "1                 b'Russia is so much better at war'   \n",
       "\n",
       "                                               Top25  \n",
       "0           b\"No Help for Mexico's Kidnapping Surge\"  \n",
       "1  b\"So this is what it's come to: trading sex fo...  \n",
       "\n",
       "[2 rows x 27 columns]"
      ]
     },
     "execution_count": 5,
     "metadata": {},
     "output_type": "execute_result"
    }
   ],
   "source": [
    "news_djia.head(2)"
   ]
  },
  {
   "cell_type": "code",
   "execution_count": 6,
   "metadata": {
    "ExecuteTime": {
     "end_time": "2019-05-25T21:59:05.747912Z",
     "start_time": "2019-05-25T21:59:03.775101Z"
    }
   },
   "outputs": [],
   "source": [
    "news_djia = news_djia.drop(labels='Label', axis=1)\n",
    "\n",
    "# Some column values are not in string so convert them\n",
    "news_djia = news_djia.apply(lambda x: x.map(lambda y: str(y)), axis=1)\n",
    "\n",
    "# Remove starting b' and b\" characters\n",
    "news_djia = news_djia.apply(lambda x: x.map(lambda y: y.replace('b\"', '').replace(\"b'\", '').replace('\"', '')), axis=1)\n",
    "\n",
    "# Set each strings of articles to list of articles for bert_embedding\n",
    "news_djia.iloc[:, 1:] = news_djia.iloc[:, 1:].apply(lambda x: x.map(lambda y: [y]), axis=1)\n",
    "\n",
    "# Move Date to Index\n",
    "news_djia = news_djia.set_index(news_djia.iloc[:, 0]).drop('Date', axis=1)"
   ]
  },
  {
   "cell_type": "code",
   "execution_count": 7,
   "metadata": {
    "ExecuteTime": {
     "end_time": "2019-05-25T21:59:13.299811Z",
     "start_time": "2019-05-25T21:59:13.245368Z"
    }
   },
   "outputs": [
    {
     "data": {
      "text/html": [
       "<div>\n",
       "<style scoped>\n",
       "    .dataframe tbody tr th:only-of-type {\n",
       "        vertical-align: middle;\n",
       "    }\n",
       "\n",
       "    .dataframe tbody tr th {\n",
       "        vertical-align: top;\n",
       "    }\n",
       "\n",
       "    .dataframe thead th {\n",
       "        text-align: right;\n",
       "    }\n",
       "</style>\n",
       "<table border=\"1\" class=\"dataframe\">\n",
       "  <thead>\n",
       "    <tr style=\"text-align: right;\">\n",
       "      <th></th>\n",
       "      <th>Top1</th>\n",
       "      <th>Top2</th>\n",
       "      <th>Top3</th>\n",
       "      <th>Top4</th>\n",
       "      <th>Top5</th>\n",
       "      <th>Top6</th>\n",
       "      <th>Top7</th>\n",
       "      <th>Top8</th>\n",
       "      <th>Top9</th>\n",
       "      <th>Top10</th>\n",
       "      <th>...</th>\n",
       "      <th>Top16</th>\n",
       "      <th>Top17</th>\n",
       "      <th>Top18</th>\n",
       "      <th>Top19</th>\n",
       "      <th>Top20</th>\n",
       "      <th>Top21</th>\n",
       "      <th>Top22</th>\n",
       "      <th>Top23</th>\n",
       "      <th>Top24</th>\n",
       "      <th>Top25</th>\n",
       "    </tr>\n",
       "    <tr>\n",
       "      <th>Date</th>\n",
       "      <th></th>\n",
       "      <th></th>\n",
       "      <th></th>\n",
       "      <th></th>\n",
       "      <th></th>\n",
       "      <th></th>\n",
       "      <th></th>\n",
       "      <th></th>\n",
       "      <th></th>\n",
       "      <th></th>\n",
       "      <th></th>\n",
       "      <th></th>\n",
       "      <th></th>\n",
       "      <th></th>\n",
       "      <th></th>\n",
       "      <th></th>\n",
       "      <th></th>\n",
       "      <th></th>\n",
       "      <th></th>\n",
       "      <th></th>\n",
       "      <th></th>\n",
       "    </tr>\n",
       "  </thead>\n",
       "  <tbody>\n",
       "    <tr>\n",
       "      <th>2008-08-08</th>\n",
       "      <td>[Georgia 'downs two Russian warplanes' as coun...</td>\n",
       "      <td>[BREAKING: Musharraf to be impeached.']</td>\n",
       "      <td>[Russia Today: Columns of troops roll into Sou...</td>\n",
       "      <td>[Russian tanks are moving towards the capital ...</td>\n",
       "      <td>[Afghan children raped with 'impunity,' U.N. o...</td>\n",
       "      <td>[150 Russian tanks have entered South Ossetia ...</td>\n",
       "      <td>[Breaking: Georgia invades South Ossetia, Russ...</td>\n",
       "      <td>[The 'enemy combatent' trials are nothing but ...</td>\n",
       "      <td>[Georgian troops retreat from S. Osettain capi...</td>\n",
       "      <td>[Did the U.S. Prep Georgia for War with Russia?']</td>\n",
       "      <td>...</td>\n",
       "      <td>[Georgia Invades South Ossetia - if Russia get...</td>\n",
       "      <td>[Al-Qaeda Faces Islamist Backlash']</td>\n",
       "      <td>[Condoleezza Rice: The US would not act to pre...</td>\n",
       "      <td>[This is a busy day:  The European Union has a...</td>\n",
       "      <td>[Georgia will withdraw 1,000 soldiers from Ira...</td>\n",
       "      <td>[Why the Pentagon Thinks Attacking Iran is a B...</td>\n",
       "      <td>[Caucasus in crisis: Georgia invades South Oss...</td>\n",
       "      <td>[Indian shoe manufactory  - And again in a ser...</td>\n",
       "      <td>[Visitors Suffering from Mental Illnesses Bann...</td>\n",
       "      <td>[No Help for Mexico's Kidnapping Surge]</td>\n",
       "    </tr>\n",
       "    <tr>\n",
       "      <th>2008-08-11</th>\n",
       "      <td>[Why wont America and Nato help us? If they wo...</td>\n",
       "      <td>[Bush puts foot down on Georgian conflict']</td>\n",
       "      <td>[Jewish Georgian minister: Thanks to Israeli t...</td>\n",
       "      <td>[Georgian army flees in disarray as Russians a...</td>\n",
       "      <td>[Olympic opening ceremony fireworks 'faked']</td>\n",
       "      <td>[What were the Mossad with fraudulent New Zeal...</td>\n",
       "      <td>[Russia angered by Israeli military sale to Ge...</td>\n",
       "      <td>[An American citizen living in S.Ossetia blame...</td>\n",
       "      <td>[Welcome To World War IV! Now In High Definiti...</td>\n",
       "      <td>[Georgia's move, a mistake of monumental propo...</td>\n",
       "      <td>...</td>\n",
       "      <td>[Israel and the US behind the Georgian aggress...</td>\n",
       "      <td>[Do not believe TV, neither Russian nor Georgi...</td>\n",
       "      <td>[Riots are still going on in Montreal (Canada)...</td>\n",
       "      <td>[China to overtake US as largest manufacturer']</td>\n",
       "      <td>[War in South Ossetia [PICS]']</td>\n",
       "      <td>[Israeli Physicians Group Condemns State Tortu...</td>\n",
       "      <td>[ Russia has just beaten the United States ove...</td>\n",
       "      <td>[Perhaps *the* question about the Georgia - Ru...</td>\n",
       "      <td>[Russia is so much better at war']</td>\n",
       "      <td>[So this is what it's come to: trading sex for...</td>\n",
       "    </tr>\n",
       "  </tbody>\n",
       "</table>\n",
       "<p>2 rows × 25 columns</p>\n",
       "</div>"
      ],
      "text/plain": [
       "                                                         Top1  \\\n",
       "Date                                                            \n",
       "2008-08-08  [Georgia 'downs two Russian warplanes' as coun...   \n",
       "2008-08-11  [Why wont America and Nato help us? If they wo...   \n",
       "\n",
       "                                                   Top2  \\\n",
       "Date                                                      \n",
       "2008-08-08      [BREAKING: Musharraf to be impeached.']   \n",
       "2008-08-11  [Bush puts foot down on Georgian conflict']   \n",
       "\n",
       "                                                         Top3  \\\n",
       "Date                                                            \n",
       "2008-08-08  [Russia Today: Columns of troops roll into Sou...   \n",
       "2008-08-11  [Jewish Georgian minister: Thanks to Israeli t...   \n",
       "\n",
       "                                                         Top4  \\\n",
       "Date                                                            \n",
       "2008-08-08  [Russian tanks are moving towards the capital ...   \n",
       "2008-08-11  [Georgian army flees in disarray as Russians a...   \n",
       "\n",
       "                                                         Top5  \\\n",
       "Date                                                            \n",
       "2008-08-08  [Afghan children raped with 'impunity,' U.N. o...   \n",
       "2008-08-11       [Olympic opening ceremony fireworks 'faked']   \n",
       "\n",
       "                                                         Top6  \\\n",
       "Date                                                            \n",
       "2008-08-08  [150 Russian tanks have entered South Ossetia ...   \n",
       "2008-08-11  [What were the Mossad with fraudulent New Zeal...   \n",
       "\n",
       "                                                         Top7  \\\n",
       "Date                                                            \n",
       "2008-08-08  [Breaking: Georgia invades South Ossetia, Russ...   \n",
       "2008-08-11  [Russia angered by Israeli military sale to Ge...   \n",
       "\n",
       "                                                         Top8  \\\n",
       "Date                                                            \n",
       "2008-08-08  [The 'enemy combatent' trials are nothing but ...   \n",
       "2008-08-11  [An American citizen living in S.Ossetia blame...   \n",
       "\n",
       "                                                         Top9  \\\n",
       "Date                                                            \n",
       "2008-08-08  [Georgian troops retreat from S. Osettain capi...   \n",
       "2008-08-11  [Welcome To World War IV! Now In High Definiti...   \n",
       "\n",
       "                                                        Top10  ...  \\\n",
       "Date                                                           ...   \n",
       "2008-08-08  [Did the U.S. Prep Georgia for War with Russia?']  ...   \n",
       "2008-08-11  [Georgia's move, a mistake of monumental propo...  ...   \n",
       "\n",
       "                                                        Top16  \\\n",
       "Date                                                            \n",
       "2008-08-08  [Georgia Invades South Ossetia - if Russia get...   \n",
       "2008-08-11  [Israel and the US behind the Georgian aggress...   \n",
       "\n",
       "                                                        Top17  \\\n",
       "Date                                                            \n",
       "2008-08-08                [Al-Qaeda Faces Islamist Backlash']   \n",
       "2008-08-11  [Do not believe TV, neither Russian nor Georgi...   \n",
       "\n",
       "                                                        Top18  \\\n",
       "Date                                                            \n",
       "2008-08-08  [Condoleezza Rice: The US would not act to pre...   \n",
       "2008-08-11  [Riots are still going on in Montreal (Canada)...   \n",
       "\n",
       "                                                        Top19  \\\n",
       "Date                                                            \n",
       "2008-08-08  [This is a busy day:  The European Union has a...   \n",
       "2008-08-11    [China to overtake US as largest manufacturer']   \n",
       "\n",
       "                                                        Top20  \\\n",
       "Date                                                            \n",
       "2008-08-08  [Georgia will withdraw 1,000 soldiers from Ira...   \n",
       "2008-08-11                     [War in South Ossetia [PICS]']   \n",
       "\n",
       "                                                        Top21  \\\n",
       "Date                                                            \n",
       "2008-08-08  [Why the Pentagon Thinks Attacking Iran is a B...   \n",
       "2008-08-11  [Israeli Physicians Group Condemns State Tortu...   \n",
       "\n",
       "                                                        Top22  \\\n",
       "Date                                                            \n",
       "2008-08-08  [Caucasus in crisis: Georgia invades South Oss...   \n",
       "2008-08-11  [ Russia has just beaten the United States ove...   \n",
       "\n",
       "                                                        Top23  \\\n",
       "Date                                                            \n",
       "2008-08-08  [Indian shoe manufactory  - And again in a ser...   \n",
       "2008-08-11  [Perhaps *the* question about the Georgia - Ru...   \n",
       "\n",
       "                                                        Top24  \\\n",
       "Date                                                            \n",
       "2008-08-08  [Visitors Suffering from Mental Illnesses Bann...   \n",
       "2008-08-11                 [Russia is so much better at war']   \n",
       "\n",
       "                                                        Top25  \n",
       "Date                                                           \n",
       "2008-08-08            [No Help for Mexico's Kidnapping Surge]  \n",
       "2008-08-11  [So this is what it's come to: trading sex for...  \n",
       "\n",
       "[2 rows x 25 columns]"
      ]
     },
     "execution_count": 7,
     "metadata": {},
     "output_type": "execute_result"
    }
   ],
   "source": [
    "news_djia.head(2)"
   ]
  },
  {
   "cell_type": "markdown",
   "metadata": {},
   "source": [
    "I removed the label column and moved the date values to index. Then I removed starting b' or b\" since it is not an actual word that I need."
   ]
  },
  {
   "cell_type": "markdown",
   "metadata": {},
   "source": [
    "The reason I converted a string to a list of words is so that BERT will output values for each word."
   ]
  },
  {
   "cell_type": "markdown",
   "metadata": {},
   "source": [
    "It is possible some news articles contain non-alphanumeric but I did not preprocess them but doing so will likely improve a model."
   ]
  },
  {
   "cell_type": "markdown",
   "metadata": {},
   "source": [
    "You can [download files](https://gluon-nlp.mxnet.io/_downloads/sentence_embedding.zip) necessary to run BERT from [Mxnet BERT page](https://gluon-nlp.mxnet.io/examples/sentence_embedding/bert.html). Also to run it, you have to install mxnet with pip."
   ]
  },
  {
   "cell_type": "code",
   "execution_count": null,
   "metadata": {},
   "outputs": [],
   "source": [
    "import mxnet as mx\n",
    "\n",
    "from mxnet import gluon\n",
    "from bert.embedding import BertEmbedding\n",
    "\n",
    "# Get GPU\n",
    "ctx = mx.gpu()\n",
    "\n",
    "# Define a model in GPU for faster training\n",
    "bert_embedding = BertEmbedding(model='bert_12_768_12', dataset_name='book_corpus_wiki_en_cased', ctx=ctx)"
   ]
  },
  {
   "cell_type": "markdown",
   "metadata": {},
   "source": [
    "You can change the model to another and [this page](https://gluon-nlp.mxnet.io/model_zoo/bert/index.html) has parameters for that. Additionally you can change the dataset to a different one. The model I loaded outputs an embedding in the shape of 768, as it can be seen in the name of model. Bigger number will generate bigger features which might boost accuracy of the model so feel free to try different models as well."
   ]
  },
  {
   "cell_type": "markdown",
   "metadata": {},
   "source": [
    "Next is the result of passing first two samples into BERT."
   ]
  },
  {
   "cell_type": "code",
   "execution_count": 65,
   "metadata": {},
   "outputs": [
    {
     "data": {
      "text/html": [
       "<div>\n",
       "<table border=\"1\" class=\"dataframe\">\n",
       "  <thead>\n",
       "    <tr style=\"text-align: right;\">\n",
       "      <th></th>\n",
       "      <th>Top1</th>\n",
       "      <th>Top2</th>\n",
       "      <th>Top3</th>\n",
       "      <th>Top4</th>\n",
       "      <th>Top5</th>\n",
       "      <th>Top6</th>\n",
       "      <th>Top7</th>\n",
       "      <th>Top8</th>\n",
       "      <th>Top9</th>\n",
       "      <th>Top10</th>\n",
       "      <th>...</th>\n",
       "      <th>Top16</th>\n",
       "      <th>Top17</th>\n",
       "      <th>Top18</th>\n",
       "      <th>Top19</th>\n",
       "      <th>Top20</th>\n",
       "      <th>Top21</th>\n",
       "      <th>Top22</th>\n",
       "      <th>Top23</th>\n",
       "      <th>Top24</th>\n",
       "      <th>Top25</th>\n",
       "    </tr>\n",
       "    <tr>\n",
       "      <th>Date</th>\n",
       "      <th></th>\n",
       "      <th></th>\n",
       "      <th></th>\n",
       "      <th></th>\n",
       "      <th></th>\n",
       "      <th></th>\n",
       "      <th></th>\n",
       "      <th></th>\n",
       "      <th></th>\n",
       "      <th></th>\n",
       "      <th></th>\n",
       "      <th></th>\n",
       "      <th></th>\n",
       "      <th></th>\n",
       "      <th></th>\n",
       "      <th></th>\n",
       "      <th></th>\n",
       "      <th></th>\n",
       "      <th></th>\n",
       "      <th></th>\n",
       "      <th></th>\n",
       "    </tr>\n",
       "  </thead>\n",
       "  <tbody>\n",
       "    <tr>\n",
       "      <th>2008-08-08</th>\n",
       "      <td>[([Georgia, ', downs, two, Russian, warplanes,...</td>\n",
       "      <td>[([BREAKING, :, Musharraf, to, be, impeached, ...</td>\n",
       "      <td>[([Russia, Today, :, Columns, of, troops, roll...</td>\n",
       "      <td>[([Russian, tanks, are, moving, towards, the, ...</td>\n",
       "      <td>[([Afghan, children, raped, with, ', impunity,...</td>\n",
       "      <td>[([150, Russian, tanks, have, entered, South, ...</td>\n",
       "      <td>[([Breaking, :, Georgia, invades, South, Osset...</td>\n",
       "      <td>[([The, ', enemy, combatent, ', trials, are, n...</td>\n",
       "      <td>[([Georgian, troops, retreat, from, S, ., Oset...</td>\n",
       "      <td>[([Did, the, U, ., S, ., Prep, Georgia, for, W...</td>\n",
       "      <td>...</td>\n",
       "      <td>[([Georgia, Invades, South, Ossetia, -, if, Ru...</td>\n",
       "      <td>[([Al, -, Qaeda, Faces, Islamist, Backlash, ']...</td>\n",
       "      <td>[([Condoleezza, Rice, :, The, US, would, not, ...</td>\n",
       "      <td>[([This, is, a, busy, day, :, The, European, U...</td>\n",
       "      <td>[([Georgia, will, withdraw, 1, ,, 000, soldier...</td>\n",
       "      <td>[([Why, the, Pentagon, Thinks, Attacking, Iran...</td>\n",
       "      <td>[([Caucasus, in, crisis, :, Georgia, invades, ...</td>\n",
       "      <td>[([Indian, shoe, manufactory, -, And, again, i...</td>\n",
       "      <td>[([Visitors, Suffering, from, Mental, Illnesse...</td>\n",
       "      <td>[([No, Help, for, Mexico, ', s, Kidnapping, Su...</td>\n",
       "    </tr>\n",
       "    <tr>\n",
       "      <th>2008-08-11</th>\n",
       "      <td>[([Why, wont, America, and, Nato, help, us, ?,...</td>\n",
       "      <td>[([Bush, puts, foot, down, on, Georgian, confl...</td>\n",
       "      <td>[([Jewish, Georgian, minister, :, Thanks, to, ...</td>\n",
       "      <td>[([Georgian, army, flees, in, disarray, as, Ru...</td>\n",
       "      <td>[([Olympic, opening, ceremony, fireworks, ', f...</td>\n",
       "      <td>[([What, were, the, Mossad, with, fraudulent, ...</td>\n",
       "      <td>[([Russia, angered, by, Israeli, military, sal...</td>\n",
       "      <td>[([An, American, citizen, living, in, S, ., Os...</td>\n",
       "      <td>[([Welcome, To, World, War, IV, !, Now, In, Hi...</td>\n",
       "      <td>[([Georgia, ', s, move, ,, a, mistake, of, mon...</td>\n",
       "      <td>...</td>\n",
       "      <td>[([Israel, and, the, US, behind, the, Georgian...</td>\n",
       "      <td>[([Do, not, believe, TV, ,, neither, Russian, ...</td>\n",
       "      <td>[([Riots, are, still, going, on, in, Montreal,...</td>\n",
       "      <td>[([China, to, overtake, US, as, largest, manuf...</td>\n",
       "      <td>[([War, in, South, Ossetia, [, PICS, ], '], [[...</td>\n",
       "      <td>[([Israeli, Physicians, Group, Condemns, State...</td>\n",
       "      <td>[([Russia, has, just, beaten, the, United, Sta...</td>\n",
       "      <td>[([Perhaps, *, the, *, question, about, the, G...</td>\n",
       "      <td>[([Russia, is, so, much, better, at, war, '], ...</td>\n",
       "      <td>[([So, this, is, what, it, ', s, come, to, :, ...</td>\n",
       "    </tr>\n",
       "  </tbody>\n",
       "</table>\n",
       "<p>2 rows × 25 columns</p>\n",
       "</div>"
      ],
      "text/plain": [
       "                                                         Top1  \\\n",
       "Date                                                            \n",
       "2008-08-08  [([Georgia, ', downs, two, Russian, warplanes,...   \n",
       "2008-08-11  [([Why, wont, America, and, Nato, help, us, ?,...   \n",
       "\n",
       "                                                         Top2  \\\n",
       "Date                                                            \n",
       "2008-08-08  [([BREAKING, :, Musharraf, to, be, impeached, ...   \n",
       "2008-08-11  [([Bush, puts, foot, down, on, Georgian, confl...   \n",
       "\n",
       "                                                         Top3  \\\n",
       "Date                                                            \n",
       "2008-08-08  [([Russia, Today, :, Columns, of, troops, roll...   \n",
       "2008-08-11  [([Jewish, Georgian, minister, :, Thanks, to, ...   \n",
       "\n",
       "                                                         Top4  \\\n",
       "Date                                                            \n",
       "2008-08-08  [([Russian, tanks, are, moving, towards, the, ...   \n",
       "2008-08-11  [([Georgian, army, flees, in, disarray, as, Ru...   \n",
       "\n",
       "                                                         Top5  \\\n",
       "Date                                                            \n",
       "2008-08-08  [([Afghan, children, raped, with, ', impunity,...   \n",
       "2008-08-11  [([Olympic, opening, ceremony, fireworks, ', f...   \n",
       "\n",
       "                                                         Top6  \\\n",
       "Date                                                            \n",
       "2008-08-08  [([150, Russian, tanks, have, entered, South, ...   \n",
       "2008-08-11  [([What, were, the, Mossad, with, fraudulent, ...   \n",
       "\n",
       "                                                         Top7  \\\n",
       "Date                                                            \n",
       "2008-08-08  [([Breaking, :, Georgia, invades, South, Osset...   \n",
       "2008-08-11  [([Russia, angered, by, Israeli, military, sal...   \n",
       "\n",
       "                                                         Top8  \\\n",
       "Date                                                            \n",
       "2008-08-08  [([The, ', enemy, combatent, ', trials, are, n...   \n",
       "2008-08-11  [([An, American, citizen, living, in, S, ., Os...   \n",
       "\n",
       "                                                         Top9  \\\n",
       "Date                                                            \n",
       "2008-08-08  [([Georgian, troops, retreat, from, S, ., Oset...   \n",
       "2008-08-11  [([Welcome, To, World, War, IV, !, Now, In, Hi...   \n",
       "\n",
       "                                                        Top10  \\\n",
       "Date                                                            \n",
       "2008-08-08  [([Did, the, U, ., S, ., Prep, Georgia, for, W...   \n",
       "2008-08-11  [([Georgia, ', s, move, ,, a, mistake, of, mon...   \n",
       "\n",
       "                                  ...                          \\\n",
       "Date                              ...                           \n",
       "2008-08-08                        ...                           \n",
       "2008-08-11                        ...                           \n",
       "\n",
       "                                                        Top16  \\\n",
       "Date                                                            \n",
       "2008-08-08  [([Georgia, Invades, South, Ossetia, -, if, Ru...   \n",
       "2008-08-11  [([Israel, and, the, US, behind, the, Georgian...   \n",
       "\n",
       "                                                        Top17  \\\n",
       "Date                                                            \n",
       "2008-08-08  [([Al, -, Qaeda, Faces, Islamist, Backlash, ']...   \n",
       "2008-08-11  [([Do, not, believe, TV, ,, neither, Russian, ...   \n",
       "\n",
       "                                                        Top18  \\\n",
       "Date                                                            \n",
       "2008-08-08  [([Condoleezza, Rice, :, The, US, would, not, ...   \n",
       "2008-08-11  [([Riots, are, still, going, on, in, Montreal,...   \n",
       "\n",
       "                                                        Top19  \\\n",
       "Date                                                            \n",
       "2008-08-08  [([This, is, a, busy, day, :, The, European, U...   \n",
       "2008-08-11  [([China, to, overtake, US, as, largest, manuf...   \n",
       "\n",
       "                                                        Top20  \\\n",
       "Date                                                            \n",
       "2008-08-08  [([Georgia, will, withdraw, 1, ,, 000, soldier...   \n",
       "2008-08-11  [([War, in, South, Ossetia, [, PICS, ], '], [[...   \n",
       "\n",
       "                                                        Top21  \\\n",
       "Date                                                            \n",
       "2008-08-08  [([Why, the, Pentagon, Thinks, Attacking, Iran...   \n",
       "2008-08-11  [([Israeli, Physicians, Group, Condemns, State...   \n",
       "\n",
       "                                                        Top22  \\\n",
       "Date                                                            \n",
       "2008-08-08  [([Caucasus, in, crisis, :, Georgia, invades, ...   \n",
       "2008-08-11  [([Russia, has, just, beaten, the, United, Sta...   \n",
       "\n",
       "                                                        Top23  \\\n",
       "Date                                                            \n",
       "2008-08-08  [([Indian, shoe, manufactory, -, And, again, i...   \n",
       "2008-08-11  [([Perhaps, *, the, *, question, about, the, G...   \n",
       "\n",
       "                                                        Top24  \\\n",
       "Date                                                            \n",
       "2008-08-08  [([Visitors, Suffering, from, Mental, Illnesse...   \n",
       "2008-08-11  [([Russia, is, so, much, better, at, war, '], ...   \n",
       "\n",
       "                                                        Top25  \n",
       "Date                                                           \n",
       "2008-08-08  [([No, Help, for, Mexico, ', s, Kidnapping, Su...  \n",
       "2008-08-11  [([So, this, is, what, it, ', s, come, to, :, ...  \n",
       "\n",
       "[2 rows x 25 columns]"
      ]
     },
     "execution_count": 65,
     "metadata": {},
     "output_type": "execute_result"
    }
   ],
   "source": [
    "example_embedding = news_djia.iloc[:2, :].apply(lambda x: x.map(lambda y: bert_embedding(y)))\n",
    "example_embedding"
   ]
  },
  {
   "cell_type": "markdown",
   "metadata": {},
   "source": [
    "The output of bert_embedding is a tuple whose first entry is words and second is the floating values corresponding to each of them. Since I did not need any string values, I extracted numeric values by doing next."
   ]
  },
  {
   "cell_type": "code",
   "execution_count": 66,
   "metadata": {
    "collapsed": true
   },
   "outputs": [],
   "source": [
    "def extract_features(x):\n",
    "    \n",
    "    # Compact code\n",
    "    # return np.array(x[0][1]).sum(axis=0)\n",
    "    \n",
    "    features = np.array(x[0][1])\n",
    "    features = features.sum(axis=0)\n",
    "    \n",
    "    return features"
   ]
  },
  {
   "cell_type": "code",
   "execution_count": 67,
   "metadata": {
    "scrolled": true
   },
   "outputs": [
    {
     "data": {
      "text/html": [
       "<div>\n",
       "<table border=\"1\" class=\"dataframe\">\n",
       "  <thead>\n",
       "    <tr style=\"text-align: right;\">\n",
       "      <th></th>\n",
       "      <th>Top1</th>\n",
       "      <th>Top2</th>\n",
       "      <th>Top3</th>\n",
       "      <th>Top4</th>\n",
       "      <th>Top5</th>\n",
       "      <th>Top6</th>\n",
       "      <th>Top7</th>\n",
       "      <th>Top8</th>\n",
       "      <th>Top9</th>\n",
       "      <th>Top10</th>\n",
       "      <th>...</th>\n",
       "      <th>Top16</th>\n",
       "      <th>Top17</th>\n",
       "      <th>Top18</th>\n",
       "      <th>Top19</th>\n",
       "      <th>Top20</th>\n",
       "      <th>Top21</th>\n",
       "      <th>Top22</th>\n",
       "      <th>Top23</th>\n",
       "      <th>Top24</th>\n",
       "      <th>Top25</th>\n",
       "    </tr>\n",
       "    <tr>\n",
       "      <th>Date</th>\n",
       "      <th></th>\n",
       "      <th></th>\n",
       "      <th></th>\n",
       "      <th></th>\n",
       "      <th></th>\n",
       "      <th></th>\n",
       "      <th></th>\n",
       "      <th></th>\n",
       "      <th></th>\n",
       "      <th></th>\n",
       "      <th></th>\n",
       "      <th></th>\n",
       "      <th></th>\n",
       "      <th></th>\n",
       "      <th></th>\n",
       "      <th></th>\n",
       "      <th></th>\n",
       "      <th></th>\n",
       "      <th></th>\n",
       "      <th></th>\n",
       "      <th></th>\n",
       "    </tr>\n",
       "  </thead>\n",
       "  <tbody>\n",
       "    <tr>\n",
       "      <th>2008-08-08</th>\n",
       "      <td>[3.43436, 0.89767, -2.27312, 2.62073, 0.792095...</td>\n",
       "      <td>[1.5841, 0.365171, -2.74592, -0.759266, 0.5633...</td>\n",
       "      <td>[1.66644, 0.786982, -1.82106, 0.194207, 1.0017...</td>\n",
       "      <td>[1.24759, -1.67627, -4.90526, -1.23436, -0.495...</td>\n",
       "      <td>[3.78023, -0.584944, -4.42655, -2.08476, 0.645...</td>\n",
       "      <td>[6.28313, -2.16985, -4.36524, -0.282691, -3.88...</td>\n",
       "      <td>[2.52342, -4.29657, -1.48065, -0.826757, 4.262...</td>\n",
       "      <td>[4.61817, 1.62902, -2.46977, 1.27654, 3.85087,...</td>\n",
       "      <td>[3.6748, -4.58673, -3.14633, -2.66208, 3.22038...</td>\n",
       "      <td>[2.27328, -6.11834, -3.83456, -3.41502, 0.6939...</td>\n",
       "      <td>...</td>\n",
       "      <td>[4.8692, -3.09887, -3.37449, 1.15127, 1.20513,...</td>\n",
       "      <td>[0.677572, 0.407966, -1.27538, -0.430122, -1.8...</td>\n",
       "      <td>[3.98538, -1.94795, -5.36948, -2.99529, -3.041...</td>\n",
       "      <td>[3.50761, 2.43183, -0.859873, 1.72922, 2.43535...</td>\n",
       "      <td>[3.2757, -2.02832, -3.94034, -5.52725, -3.2960...</td>\n",
       "      <td>[2.09109, 1.17632, -6.94091, -1.05991, 4.66838...</td>\n",
       "      <td>[1.05314, -1.48395, -0.210298, -0.0948398, 0.0...</td>\n",
       "      <td>[5.10344, -1.73553, -7.81096, 1.49675, 6.49278...</td>\n",
       "      <td>[0.960207, 3.25463, -2.08372, -0.192987, 0.030...</td>\n",
       "      <td>[0.967569, -0.0868791, -1.75524, 1.64098, -1.9...</td>\n",
       "    </tr>\n",
       "    <tr>\n",
       "      <th>2008-08-11</th>\n",
       "      <td>[4.37261, -2.79286, -5.87916, 6.66576, 2.75987...</td>\n",
       "      <td>[1.53141, 0.333403, -0.260142, 0.128509, -1.66...</td>\n",
       "      <td>[1.40451, -3.75495, -3.26506, -0.551889, -0.06...</td>\n",
       "      <td>[1.30285, -7.20199, -1.98171, -1.76504, 3.3063...</td>\n",
       "      <td>[0.382488, 1.93044, -0.987913, -0.084965, -0.9...</td>\n",
       "      <td>[2.7923, -1.36717, -0.413153, -2.22618, 0.3724...</td>\n",
       "      <td>[2.81514, -2.69294, -3.19405, -0.943336, -2.15...</td>\n",
       "      <td>[4.82897, -7.04651, 0.574161, -2.90421, 2.1165...</td>\n",
       "      <td>[-0.700163, 4.20339, 0.784252, 3.06448, 2.2954...</td>\n",
       "      <td>[1.78688, 0.486187, -0.594014, 1.10868, 1.0810...</td>\n",
       "      <td>...</td>\n",
       "      <td>[2.89638, -1.57175, -2.83468, -1.60865, 0.3098...</td>\n",
       "      <td>[7.5718, -2.25389, 0.510455, 0.161088, 5.25497...</td>\n",
       "      <td>[3.07508, 1.98748, -1.68678, 4.93265, 2.72879,...</td>\n",
       "      <td>[1.08836, 1.68378, -1.16536, -0.757239, 0.2008...</td>\n",
       "      <td>[1.1617, -0.767918, -1.46226, -1.37308, -0.755...</td>\n",
       "      <td>[0.307321, -0.462073, -1.55613, -0.213022, -1....</td>\n",
       "      <td>[-1.54555, -0.837098, -1.98399, 0.317458, 1.12...</td>\n",
       "      <td>[1.98323, -0.86789, -6.02319, 1.49993, -1.8145...</td>\n",
       "      <td>[0.65908, -1.02872, -2.99243, 0.0656184, 1.712...</td>\n",
       "      <td>[1.11363, 3.66216, -0.0606607, 4.42123, 3.8314...</td>\n",
       "    </tr>\n",
       "  </tbody>\n",
       "</table>\n",
       "<p>2 rows × 25 columns</p>\n",
       "</div>"
      ],
      "text/plain": [
       "                                                         Top1  \\\n",
       "Date                                                            \n",
       "2008-08-08  [3.43436, 0.89767, -2.27312, 2.62073, 0.792095...   \n",
       "2008-08-11  [4.37261, -2.79286, -5.87916, 6.66576, 2.75987...   \n",
       "\n",
       "                                                         Top2  \\\n",
       "Date                                                            \n",
       "2008-08-08  [1.5841, 0.365171, -2.74592, -0.759266, 0.5633...   \n",
       "2008-08-11  [1.53141, 0.333403, -0.260142, 0.128509, -1.66...   \n",
       "\n",
       "                                                         Top3  \\\n",
       "Date                                                            \n",
       "2008-08-08  [1.66644, 0.786982, -1.82106, 0.194207, 1.0017...   \n",
       "2008-08-11  [1.40451, -3.75495, -3.26506, -0.551889, -0.06...   \n",
       "\n",
       "                                                         Top4  \\\n",
       "Date                                                            \n",
       "2008-08-08  [1.24759, -1.67627, -4.90526, -1.23436, -0.495...   \n",
       "2008-08-11  [1.30285, -7.20199, -1.98171, -1.76504, 3.3063...   \n",
       "\n",
       "                                                         Top5  \\\n",
       "Date                                                            \n",
       "2008-08-08  [3.78023, -0.584944, -4.42655, -2.08476, 0.645...   \n",
       "2008-08-11  [0.382488, 1.93044, -0.987913, -0.084965, -0.9...   \n",
       "\n",
       "                                                         Top6  \\\n",
       "Date                                                            \n",
       "2008-08-08  [6.28313, -2.16985, -4.36524, -0.282691, -3.88...   \n",
       "2008-08-11  [2.7923, -1.36717, -0.413153, -2.22618, 0.3724...   \n",
       "\n",
       "                                                         Top7  \\\n",
       "Date                                                            \n",
       "2008-08-08  [2.52342, -4.29657, -1.48065, -0.826757, 4.262...   \n",
       "2008-08-11  [2.81514, -2.69294, -3.19405, -0.943336, -2.15...   \n",
       "\n",
       "                                                         Top8  \\\n",
       "Date                                                            \n",
       "2008-08-08  [4.61817, 1.62902, -2.46977, 1.27654, 3.85087,...   \n",
       "2008-08-11  [4.82897, -7.04651, 0.574161, -2.90421, 2.1165...   \n",
       "\n",
       "                                                         Top9  \\\n",
       "Date                                                            \n",
       "2008-08-08  [3.6748, -4.58673, -3.14633, -2.66208, 3.22038...   \n",
       "2008-08-11  [-0.700163, 4.20339, 0.784252, 3.06448, 2.2954...   \n",
       "\n",
       "                                                        Top10  \\\n",
       "Date                                                            \n",
       "2008-08-08  [2.27328, -6.11834, -3.83456, -3.41502, 0.6939...   \n",
       "2008-08-11  [1.78688, 0.486187, -0.594014, 1.10868, 1.0810...   \n",
       "\n",
       "                                  ...                          \\\n",
       "Date                              ...                           \n",
       "2008-08-08                        ...                           \n",
       "2008-08-11                        ...                           \n",
       "\n",
       "                                                        Top16  \\\n",
       "Date                                                            \n",
       "2008-08-08  [4.8692, -3.09887, -3.37449, 1.15127, 1.20513,...   \n",
       "2008-08-11  [2.89638, -1.57175, -2.83468, -1.60865, 0.3098...   \n",
       "\n",
       "                                                        Top17  \\\n",
       "Date                                                            \n",
       "2008-08-08  [0.677572, 0.407966, -1.27538, -0.430122, -1.8...   \n",
       "2008-08-11  [7.5718, -2.25389, 0.510455, 0.161088, 5.25497...   \n",
       "\n",
       "                                                        Top18  \\\n",
       "Date                                                            \n",
       "2008-08-08  [3.98538, -1.94795, -5.36948, -2.99529, -3.041...   \n",
       "2008-08-11  [3.07508, 1.98748, -1.68678, 4.93265, 2.72879,...   \n",
       "\n",
       "                                                        Top19  \\\n",
       "Date                                                            \n",
       "2008-08-08  [3.50761, 2.43183, -0.859873, 1.72922, 2.43535...   \n",
       "2008-08-11  [1.08836, 1.68378, -1.16536, -0.757239, 0.2008...   \n",
       "\n",
       "                                                        Top20  \\\n",
       "Date                                                            \n",
       "2008-08-08  [3.2757, -2.02832, -3.94034, -5.52725, -3.2960...   \n",
       "2008-08-11  [1.1617, -0.767918, -1.46226, -1.37308, -0.755...   \n",
       "\n",
       "                                                        Top21  \\\n",
       "Date                                                            \n",
       "2008-08-08  [2.09109, 1.17632, -6.94091, -1.05991, 4.66838...   \n",
       "2008-08-11  [0.307321, -0.462073, -1.55613, -0.213022, -1....   \n",
       "\n",
       "                                                        Top22  \\\n",
       "Date                                                            \n",
       "2008-08-08  [1.05314, -1.48395, -0.210298, -0.0948398, 0.0...   \n",
       "2008-08-11  [-1.54555, -0.837098, -1.98399, 0.317458, 1.12...   \n",
       "\n",
       "                                                        Top23  \\\n",
       "Date                                                            \n",
       "2008-08-08  [5.10344, -1.73553, -7.81096, 1.49675, 6.49278...   \n",
       "2008-08-11  [1.98323, -0.86789, -6.02319, 1.49993, -1.8145...   \n",
       "\n",
       "                                                        Top24  \\\n",
       "Date                                                            \n",
       "2008-08-08  [0.960207, 3.25463, -2.08372, -0.192987, 0.030...   \n",
       "2008-08-11  [0.65908, -1.02872, -2.99243, 0.0656184, 1.712...   \n",
       "\n",
       "                                                        Top25  \n",
       "Date                                                           \n",
       "2008-08-08  [0.967569, -0.0868791, -1.75524, 1.64098, -1.9...  \n",
       "2008-08-11  [1.11363, 3.66216, -0.0606607, 4.42123, 3.8314...  \n",
       "\n",
       "[2 rows x 25 columns]"
      ]
     },
     "execution_count": 67,
     "metadata": {},
     "output_type": "execute_result"
    }
   ],
   "source": [
    "example_embedding = example_embedding.apply(lambda x: x.map(extract_features))\n",
    "example_embedding"
   ]
  },
  {
   "cell_type": "markdown",
   "metadata": {},
   "source": [
    "With the function above, now I have a dataframe with 25 columns of numeric values. Same thing was applied to the whole dataset. "
   ]
  },
  {
   "cell_type": "markdown",
   "metadata": {},
   "source": [
    "Using BERT model on CPU took more than an hour so I had to use on Google Clout Platform with one Tesla v4 which still took about 30 minutes."
   ]
  },
  {
   "cell_type": "code",
   "execution_count": 68,
   "metadata": {},
   "outputs": [],
   "source": [
    "news_embedding = news_djia.apply(lambda x: x.map(lambda y: bert_embedding(y)))\n",
    "\n",
    "# Remove word and only keep numeric vectors\n",
    "news_embedding = news_embedding.apply(lambda x: x.map(extract_features))"
   ]
  },
  {
   "cell_type": "markdown",
   "metadata": {},
   "source": [
    "After that, I aggregated all columns into one."
   ]
  },
  {
   "cell_type": "code",
   "execution_count": 96,
   "metadata": {},
   "outputs": [
    {
     "data": {
      "text/html": [
       "<div>\n",
       "<table border=\"1\" class=\"dataframe\">\n",
       "  <thead>\n",
       "    <tr style=\"text-align: right;\">\n",
       "      <th></th>\n",
       "      <th>combined</th>\n",
       "    </tr>\n",
       "    <tr>\n",
       "      <th>Date</th>\n",
       "      <th></th>\n",
       "    </tr>\n",
       "  </thead>\n",
       "  <tbody>\n",
       "    <tr>\n",
       "      <th>2008-08-08</th>\n",
       "      <td>[[3.43436, 0.89767, -2.27312, 2.62073, 0.79209...</td>\n",
       "    </tr>\n",
       "    <tr>\n",
       "      <th>2008-08-11</th>\n",
       "      <td>[[4.37261, -2.79286, -5.87916, 6.66576, 2.7598...</td>\n",
       "    </tr>\n",
       "    <tr>\n",
       "      <th>2008-08-12</th>\n",
       "      <td>[[3.6508, 2.65258, -2.76219, -0.521201, 1.1053...</td>\n",
       "    </tr>\n",
       "    <tr>\n",
       "      <th>2008-08-13</th>\n",
       "      <td>[[3.9178, -2.75983, -2.82817, -4.31737, 0.1892...</td>\n",
       "    </tr>\n",
       "    <tr>\n",
       "      <th>2008-08-14</th>\n",
       "      <td>[[0.886879, 0.293792, -2.50885, 1.20781, 0.921...</td>\n",
       "    </tr>\n",
       "  </tbody>\n",
       "</table>\n",
       "</div>"
      ],
      "text/plain": [
       "                                                     combined\n",
       "Date                                                         \n",
       "2008-08-08  [[3.43436, 0.89767, -2.27312, 2.62073, 0.79209...\n",
       "2008-08-11  [[4.37261, -2.79286, -5.87916, 6.66576, 2.7598...\n",
       "2008-08-12  [[3.6508, 2.65258, -2.76219, -0.521201, 1.1053...\n",
       "2008-08-13  [[3.9178, -2.75983, -2.82817, -4.31737, 0.1892...\n",
       "2008-08-14  [[0.886879, 0.293792, -2.50885, 1.20781, 0.921..."
      ]
     },
     "execution_count": 96,
     "metadata": {},
     "output_type": "execute_result"
    }
   ],
   "source": [
    "news_embedding['combined'] = news_embedding.values.tolist()\n",
    "\n",
    "news_embedding = news_embedding[['combined']]\n",
    "\n",
    "news_embedding.head()"
   ]
  },
  {
   "cell_type": "markdown",
   "metadata": {},
   "source": [
    "Each article differs in the number of words that the shape of each embedding is also different. So I cannot just put them into a model because then it will have to have flexible input size. "
   ]
  },
  {
   "cell_type": "markdown",
   "metadata": {},
   "source": [
    "Instead, by using min, max, sum and mean over each data sample's embedding element-wise, I extracted extreme values. For example by using max, it will take the strongest features among others. "
   ]
  },
  {
   "cell_type": "code",
   "execution_count": 105,
   "metadata": {},
   "outputs": [],
   "source": [
    "min_embedding = news_embedding['combined'].map(lambda x: np.min(x, axis=0)).to_frame()\n",
    "max_embedding = news_embedding['combined'].map(lambda x: np.max(x, axis=0)).to_frame()\n",
    "sum_embedding = news_embedding['combined'].map(lambda x: np.sum(x, axis=0)).to_frame()\n",
    "mean_embedding = news_embedding['combined'].map(lambda x: np.mean(x, axis=0)).to_frame()"
   ]
  },
  {
   "cell_type": "code",
   "execution_count": 108,
   "metadata": {
    "scrolled": true
   },
   "outputs": [
    {
     "data": {
      "text/html": [
       "<div>\n",
       "<table border=\"1\" class=\"dataframe\">\n",
       "  <thead>\n",
       "    <tr style=\"text-align: right;\">\n",
       "      <th></th>\n",
       "      <th>combined</th>\n",
       "    </tr>\n",
       "    <tr>\n",
       "      <th>Date</th>\n",
       "      <th></th>\n",
       "    </tr>\n",
       "  </thead>\n",
       "  <tbody>\n",
       "    <tr>\n",
       "      <th>2008-08-08</th>\n",
       "      <td>[2.29378, -1.15325, -3.16382, -0.287952, 0.937...</td>\n",
       "    </tr>\n",
       "    <tr>\n",
       "      <th>2008-08-11</th>\n",
       "      <td>[1.84285, -1.09343, -1.54086, 0.335894, 1.0583...</td>\n",
       "    </tr>\n",
       "  </tbody>\n",
       "</table>\n",
       "</div>"
      ],
      "text/plain": [
       "                                                     combined\n",
       "Date                                                         \n",
       "2008-08-08  [2.29378, -1.15325, -3.16382, -0.287952, 0.937...\n",
       "2008-08-11  [1.84285, -1.09343, -1.54086, 0.335894, 1.0583..."
      ]
     },
     "execution_count": 108,
     "metadata": {},
     "output_type": "execute_result"
    }
   ],
   "source": [
    "mean_embedding.head(2)"
   ]
  },
  {
   "cell_type": "code",
   "execution_count": 107,
   "metadata": {},
   "outputs": [],
   "source": [
    "# Save them for easier access later\n",
    "path = 'embedding_files/'\n",
    "\n",
    "min_embedding.to_json(path+'min_embedding.json')\n",
    "max_embedding.to_json(path+'max_embedding.json')\n",
    "sum_embedding.to_json(path+'sum_embedding.json')\n",
    "mean_embedding.to_json(path+'mean_embedding.json')"
   ]
  },
  {
   "cell_type": "markdown",
   "metadata": {},
   "source": [
    "I had to make a different post for actual model implementation because putting all together was too long for one. You can find it [here]()"
   ]
  }
 ],
 "metadata": {
  "kernelspec": {
   "display_name": "Python 3",
   "language": "python",
   "name": "python3"
  },
  "language_info": {
   "codemirror_mode": {
    "name": "ipython",
    "version": 3
   },
   "file_extension": ".py",
   "mimetype": "text/x-python",
   "name": "python",
   "nbconvert_exporter": "python",
   "pygments_lexer": "ipython3",
   "version": "3.7.3"
  },
  "latex_envs": {
   "LaTeX_envs_menu_present": true,
   "autoclose": true,
   "autocomplete": true,
   "bibliofile": "biblio.bib",
   "cite_by": "apalike",
   "current_citInitial": 1,
   "eqLabelWithNumbers": true,
   "eqNumInitial": 1,
   "hotkeys": {
    "equation": "Ctrl-E",
    "itemize": "Ctrl-I"
   },
   "labels_anchors": false,
   "latex_user_defs": false,
   "report_style_numbering": false,
   "user_envs_cfg": false
  },
  "toc": {
   "base_numbering": 1,
   "nav_menu": {},
   "number_sections": true,
   "sideBar": true,
   "skip_h1_title": false,
   "title_cell": "Table of Contents",
   "title_sidebar": "Contents",
   "toc_cell": false,
   "toc_position": {},
   "toc_section_display": true,
   "toc_window_display": false
  }
 },
 "nbformat": 4,
 "nbformat_minor": 2
}
